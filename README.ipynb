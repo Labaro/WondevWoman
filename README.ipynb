{
 "cells": [
  {
   "cell_type": "markdown",
   "metadata": {},
   "source": [
    "# <center> Refresher in CS - M2 Data Science </center>"
   ]
  },
  {
   "cell_type": "markdown",
   "metadata": {},
   "source": [
    "For this project, we have decided to focus on a bot based on the game \"Wondev woman\". \n",
    "Here is a link of the game for further explanations : https://www.codingame.com/multiplayer/bot-programming/wondev-woman\n",
    "\n",
    "\n",
    "## The game \n",
    "\n",
    "#### Presentation \n",
    "\n",
    "This game for two players consists in winning a maximum of points in an initialized board. Each player has 2 units which are put randomly in the beginning of the game. During each turn, the player can move one of its unit to an adjacent cell (diagonal moves are allowed) and, after his move, build on one of the adjacent cell. Building on a cell will increase the \"height\" of the cell by 1. For winning points, your units have to move on cells of height 3.\n",
    "\n",
    "#### Rules : \n",
    "\n",
    "- An unit can only move to cells which have at most one height of difference. For example, if your unit is based on an unit of height 0, you can not move to an adjacent cell of height 3. The inverse is also true. \n",
    "- If you build on a cell of height 3, the cell is blocked and nobody can go on it. \n",
    "- If you move on a cell which is already occupied by an ennemy's unit, your unit will push its unit.\n",
    "- One rule proper to the challenge for fairness : our algorithm can not take more than 50 ms for taking a decision.\n",
    "\n",
    "\n",
    "This game is quite similar to a more famous one : Santorini.\n"
   ]
  },
  {
   "cell_type": "markdown",
   "metadata": {},
   "source": [
    "\n",
    "\n",
    "## Algorithms implemented \n",
    "\n",
    "#### Minimax "
   ]
  },
  {
   "cell_type": "markdown",
   "metadata": {},
   "source": [
    "The core of our bot's decision making is a minimax implementation. Globally, minimax algorithm tries on one hand thanks to the maximizer to get the highest score, while the minimizer tries to get the lowest score by trying to counter moves. In this algorithm, we assume that the opponent is playing optimally. \n",
    "(expliquer plus en détails ?) \n",
    "\n",
    "Because we are time-limited (remember that we can not exceed 50ms for having a decision), we need to optimize our search depth for having better decisions in the same time. For this, we implemented minimax search algorithm with alpha-beta pruning\n",
    "\n",
    "(parler de notre fonction d'évaluation ?)\n",
    "\n",
    "(TODO: parler de notre diagramme de classe, des problèmes rencontrés, du BdG, de ce qui pourrait être fait en plus, ..Etc)"
   ]
  },
  {
   "cell_type": "markdown",
   "metadata": {},
   "source": []
  }
 ],
 "metadata": {
  "kernelspec": {
   "display_name": "Python 3",
   "language": "python",
   "name": "python3"
  },
  "language_info": {
   "codemirror_mode": {
    "name": "ipython",
    "version": 3
   },
   "file_extension": ".py",
   "mimetype": "text/x-python",
   "name": "python",
   "nbconvert_exporter": "python",
   "pygments_lexer": "ipython3",
   "version": "3.7.3"
  }
 },
 "nbformat": 4,
 "nbformat_minor": 4
}
